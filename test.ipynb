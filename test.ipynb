{
 "cells": [
  {
   "cell_type": "code",
   "execution_count": 4,
   "metadata": {
    "collapsed": true
   },
   "outputs": [],
   "source": [
    "import torch as th\n",
    "import numpy as np\n",
    "import pandas as pd\n"
   ]
  },
  {
   "cell_type": "code",
   "execution_count": 30,
   "outputs": [
    {
     "name": "stdout",
     "output_type": "stream",
     "text": [
      "tensor([1, 0])\n"
     ]
    }
   ],
   "source": [
    "a_vec = th.tensor([3, 2])\n",
    "b_vec = th.tensor([1, 1])\n",
    "\n",
    "print(a_vec - th.min(a_vec // b_vec) * b_vec)"
   ],
   "metadata": {
    "collapsed": false
   }
  },
  {
   "cell_type": "code",
   "execution_count": 250,
   "outputs": [],
   "source": [
    "class Module:\n",
    "    def __init__(self, mod_idx, prod_idx, prod_vec, max_capacity):\n",
    "\n",
    "        self.prod_vec = prod_vec\n",
    "        self.corrected_prod_vec = th.where(self.prod_vec > 0, self.prod_vec, th.iinfo(th.int32).max)\n",
    "\n",
    "        if th.sum(prod_vec) > 0:\n",
    "            self.origin_mod = False\n",
    "        else:\n",
    "            self.origin_mod = True\n",
    "\n",
    "        self.mod_idx = mod_idx\n",
    "        self.prod_idx = prod_idx\n",
    "        self.max_capacity = max_capacity\n",
    "\n",
    "    def process(self, input_tensor):\n",
    "\n",
    "        output_tensor = input_tensor\n",
    "        if self.origin_mod:\n",
    "            output_tensor[1, self.mod_idx, self.prod_idx] += self.max_capacity\n",
    "        else:\n",
    "            current_vec = output_tensor[0, self.mod_idx, :]\n",
    "            current_inventory = th.min(th.where(self.prod_vec > 0, current_vec // self.corrected_prod_vec, th.iinfo(th.int32).max))\n",
    "            num_produced = min(current_inventory, self.max_capacity)\n",
    "            output_tensor[0, self.mod_idx, :] -= self.prod_vec * num_produced\n",
    "            output_tensor[1, self.mod_idx, self.prod_idx] += num_produced\n",
    "\n",
    "        return output_tensor\n",
    "\n",
    "class Transition:\n",
    "    def __init__(self, input_mod_idx, output_mod_idx, prod_idx, max_capacity):\n",
    "            self.input_mod_idx = input_mod_idx\n",
    "            self.output_mod_idx = output_mod_idx\n",
    "            self.prod_idx = prod_idx\n",
    "            self.max_capacity = max_capacity\n",
    "\n",
    "    def process(self, input_tensor):\n",
    "        output_tensor = input_tensor\n",
    "        current_capacity = output_tensor[1, self.input_mod_idx, self.prod_idx]\n",
    "        num_transport = min(self.max_capacity, current_capacity)\n",
    "        output_tensor[0, self.output_mod_idx, self.prod_idx] += num_transport\n",
    "        output_tensor[1, self.input_mod_idx, self.prod_idx] -= num_transport\n",
    "\n",
    "\n",
    "        return output_tensor\n",
    "\n"
   ],
   "metadata": {
    "collapsed": false
   }
  },
  {
   "cell_type": "code",
   "execution_count": 251,
   "outputs": [
    {
     "name": "stdout",
     "output_type": "stream",
     "text": [
      "tensor([[[     0,      0,      0],\n",
      "         [     0,      0,  10000],\n",
      "         [     0,      0,      0]],\n",
      "\n",
      "        [[     0,      0,      0],\n",
      "         [     0, 100000,      0],\n",
      "         [     0,      0,      0]]], dtype=torch.int32)\n"
     ]
    }
   ],
   "source": [
    "\n",
    "prod_matrix = th.tensor([[0, 0, 0],\n",
    "                         [1, 0, 1],\n",
    "                         [0, 0, 0]], dtype=th.int32)\n",
    "\n",
    "mod_a = Module(0, 0, prod_matrix[0], 10)\n",
    "mod_b = Module(1, 1, prod_matrix[1], 10)\n",
    "mod_c = Module(2, 2, prod_matrix[2], 11)\n",
    "\n",
    "tra_ab = Transition(0, 1, 0, 10)\n",
    "tra_cb = Transition(2, 1, 2, 11)\n",
    "\n",
    "sc = [mod_a, tra_ab, mod_c, tra_cb, mod_b]\n",
    "\n",
    "prod_tensor = th.zeros(2, 3, 3, dtype=th.int32)\n",
    "\n",
    "for i in range(10000):\n",
    "    for mod in sc:\n",
    "        prod_tensor = mod.process(prod_tensor)\n",
    "\n",
    "print(prod_tensor)"
   ],
   "metadata": {
    "collapsed": false
   }
  },
  {
   "cell_type": "code",
   "execution_count": 189,
   "outputs": [],
   "source": [],
   "metadata": {
    "collapsed": false
   }
  },
  {
   "cell_type": "code",
   "execution_count": 75,
   "outputs": [],
   "source": [],
   "metadata": {
    "collapsed": false
   }
  }
 ],
 "metadata": {
  "kernelspec": {
   "display_name": "Python 3",
   "language": "python",
   "name": "python3"
  },
  "language_info": {
   "codemirror_mode": {
    "name": "ipython",
    "version": 2
   },
   "file_extension": ".py",
   "mimetype": "text/x-python",
   "name": "python",
   "nbconvert_exporter": "python",
   "pygments_lexer": "ipython2",
   "version": "2.7.6"
  }
 },
 "nbformat": 4,
 "nbformat_minor": 0
}
