{
 "cells": [
  {
   "cell_type": "code",
   "execution_count": 1,
   "metadata": {
    "collapsed": true
   },
   "outputs": [],
   "source": [
    "from simplesim.risk import Risk\n",
    "from simplesim.chain import Chain\n",
    "from simplesim.module import Module\n",
    "from simplesim.product import Product\n",
    "from simplesim.csv_input import CSVInput\n",
    "\n",
    "risk_list = [Risk('aaa', probability=0.2, recover_time=3, gradual_recover=True),\n",
    "             Risk('aaa', probability=0.1, recover_time=10, gradual_recover=True),\n",
    "             Risk('aaa', probability=0.05, recover_time=100, gradual_recover=True),\n",
    "             (Risk('aaa', probability=0.1, recover_time=10), Risk('aaa', probability=0.1, recover_time=10),\n",
    "              Risk('aaa', probability=0.1, recover_time=10)),\n",
    "             Risk('aaa', probability=0.01, recover_time=100, gradual_recover=True),\n",
    "             Risk('aaa', probability=0.001, recover_time=1000, gradual_recover=True),\n",
    "             Risk('aaa', probability=0.1, recover_time=1)\n",
    "             ]"
   ]
  },
  {
   "cell_type": "code",
   "execution_count": 2,
   "outputs": [
    {
     "name": "stdout",
     "output_type": "stream",
     "text": [
      "success {'sss': <simplesim.module.Module object at 0x0000026393380850>, 'ssa': <simplesim.module.Module object at 0x00000263933811E0>, 'ssb': <simplesim.module.Module object at 0x0000026393383D90>, 'ssc': <simplesim.module.Module object at 0x0000026393383DC0>, 'dde': <simplesim.module.Module object at 0x0000026393380100>, 'ddr': <simplesim.module.Module object at 0x0000026393380640>, 'ddt': <simplesim.module.Module object at 0x0000026393383CD0>, 'ddy': <simplesim.module.Module object at 0x00000263932C6740>, 'ddu': <simplesim.module.Module object at 0x00000263932C7730>, 'ffr': <simplesim.module.Module object at 0x00000263932C74F0>, 'ffg': <simplesim.module.Module object at 0x00000263932C6EF0>, 'ffb': <simplesim.module.Module object at 0x000002639330C2E0>}\n"
     ]
    }
   ],
   "source": [
    "# Input\n",
    "\n",
    "\n",
    "data_dir = CSVInput('data')\n",
    "data_dir.get_chain()\n",
    "\n"
   ],
   "metadata": {
    "collapsed": false
   }
  },
  {
   "cell_type": "code",
   "execution_count": 2,
   "outputs": [],
   "source": [],
   "metadata": {
    "collapsed": false
   }
  },
  {
   "cell_type": "code",
   "execution_count": 2,
   "outputs": [],
   "source": [],
   "metadata": {
    "collapsed": false
   }
  }
 ],
 "metadata": {
  "kernelspec": {
   "display_name": "Python 3",
   "language": "python",
   "name": "python3"
  },
  "language_info": {
   "codemirror_mode": {
    "name": "ipython",
    "version": 2
   },
   "file_extension": ".py",
   "mimetype": "text/x-python",
   "name": "python",
   "nbconvert_exporter": "python",
   "pygments_lexer": "ipython2",
   "version": "2.7.6"
  }
 },
 "nbformat": 4,
 "nbformat_minor": 0
}
