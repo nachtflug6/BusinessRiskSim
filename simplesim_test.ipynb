{
 "cells": [
  {
   "cell_type": "code",
   "execution_count": 3,
   "metadata": {
    "collapsed": true
   },
   "outputs": [],
   "source": [
    "from simplesim.risk import Risk\n",
    "\n",
    "risk_list = [Risk('aaa', probability=0.2, recover_time=3, gradual_recover=True),\n",
    "             Risk('aaa', probability=0.1, recover_time=10, gradual_recover=True),\n",
    "             Risk('aaa', probability=0.05, recover_time=100, gradual_recover=True),\n",
    "             (Risk('aaa', probability=0.1, recover_time=10), Risk('aaa', probability=0.1, recover_time=10),\n",
    "              Risk('aaa', probability=0.1, recover_time=10)),\n",
    "             Risk('aaa', probability=0.01, recover_time=100, gradual_recover=True),\n",
    "             Risk('aaa', probability=0.001, recover_time=1000, gradual_recover=True),\n",
    "             Risk('aaa', probability=0.1, recover_time=1)\n",
    "             ]"
   ]
  },
  {
   "cell_type": "code",
   "execution_count": null,
   "outputs": [],
   "source": [],
   "metadata": {
    "collapsed": false
   }
  }
 ],
 "metadata": {
  "kernelspec": {
   "display_name": "Python 3",
   "language": "python",
   "name": "python3"
  },
  "language_info": {
   "codemirror_mode": {
    "name": "ipython",
    "version": 2
   },
   "file_extension": ".py",
   "mimetype": "text/x-python",
   "name": "python",
   "nbconvert_exporter": "python",
   "pygments_lexer": "ipython2",
   "version": "2.7.6"
  }
 },
 "nbformat": 4,
 "nbformat_minor": 0
}
