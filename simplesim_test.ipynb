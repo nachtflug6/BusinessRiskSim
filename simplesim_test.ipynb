{
 "cells": [
  {
   "cell_type": "code",
   "execution_count": 1,
   "metadata": {},
   "outputs": [],
   "source": [
    "import torch as th\n",
    "import timeit\n",
    "\n",
    "\n",
    "from simplesim.risk import Risk\n",
    "from simplesim.chain import Chain\n",
    "from simplesim.module import Module\n",
    "from simplesim.product import Product\n",
    "from simplesim.csv_input import CSVInput\n",
    "\n",
    "from simplesim.simulation.simulation import Simulation\n",
    "from simplesim.simulation.risk_generator import RiskGen"
   ]
  },
  {
   "cell_type": "code",
   "execution_count": 2,
   "outputs": [
    {
     "name": "stdout",
     "output_type": "stream",
     "text": [
      "cuda\n"
     ]
    }
   ],
   "source": [
    "device = 'cuda' if th.cuda.is_available() else 'cpu'\n",
    "print(device)"
   ],
   "metadata": {
    "collapsed": false
   }
  },
  {
   "cell_type": "code",
   "execution_count": 3,
   "metadata": {},
   "outputs": [
    {
     "name": "stdout",
     "output_type": "stream",
     "text": [
      "  name                             description  \\\n",
      "0    A                         Data is missing   \n",
      "1    B                   Different data format   \n",
      "2    C                   Cyber-security issues   \n",
      "3    D           Issues with machines/furnaces   \n",
      "4    E  Deviations in material characteristics   \n",
      "5    F                  Dependency on supplier   \n",
      "6    G                       Machine breakdown   \n",
      "\n",
      "                                          disruption        modules  \\\n",
      "0                                      Order is late  sss, ssa, ssb   \n",
      "1                              Production is blocked       dde, sss   \n",
      "2      Critical data is not shared with stakeholders       ddr, sss   \n",
      "3                              Production is blocked       ddt, sss   \n",
      "4             Delay in supplying product to customer       ffg, sss   \n",
      "5  Lack of redundancy leads to disruption in oper...       ffb, sss   \n",
      "6                                                NaN       ffb, sss   \n",
      "\n",
      "  probability capacity reduction  delay  recover time  common risk  \n",
      "0         0,1                0,7    NaN             7          NaN  \n",
      "1         0,2                0,6    NaN             6          1.0  \n",
      "2         0,3                0,5    NaN             5          NaN  \n",
      "3         0,4                0,4    1.0             4          1.0  \n",
      "4         0,5                0,3    1.0             3          NaN  \n",
      "5         0,6                0,2    NaN             2          1.0  \n",
      "6         0,7                0,1    NaN             1          NaN  \n",
      "['0,7' '0,7' '0,7' '0,6' '0,5' '0,5' '0,4' '0,3' '0,3' '0,2' '0,1' '0,1']\n"
     ]
    },
    {
     "ename": "TypeError",
     "evalue": "can't convert np.ndarray of type numpy.object_. The only supported types are: float64, float32, float16, complex64, complex128, int64, int32, int16, int8, uint8, and bool.",
     "output_type": "error",
     "traceback": [
      "\u001B[1;31m---------------------------------------------------------------------------\u001B[0m",
      "\u001B[1;31mTypeError\u001B[0m                                 Traceback (most recent call last)",
      "Cell \u001B[1;32mIn[3], line 6\u001B[0m\n\u001B[0;32m      3\u001B[0m data_dir \u001B[38;5;241m=\u001B[39m CSVInput(\u001B[38;5;124m'\u001B[39m\u001B[38;5;124mdata\u001B[39m\u001B[38;5;124m'\u001B[39m)\n\u001B[0;32m      4\u001B[0m risk_assembly \u001B[38;5;241m=\u001B[39m data_dir\u001B[38;5;241m.\u001B[39mget_risk_assembly()\n\u001B[1;32m----> 6\u001B[0m riskgen \u001B[38;5;241m=\u001B[39m \u001B[43mRiskGen\u001B[49m\u001B[43m(\u001B[49m\u001B[43mrisk_assembly\u001B[49m\u001B[43m,\u001B[49m\u001B[43m \u001B[49m\u001B[43mparallel_runs\u001B[49m\u001B[38;5;241;43m=\u001B[39;49m\u001B[38;5;241;43m1\u001B[39;49m\u001B[43m,\u001B[49m\u001B[43m \u001B[49m\u001B[43mbatch_size\u001B[49m\u001B[38;5;241;43m=\u001B[39;49m\u001B[38;5;241;43m1\u001B[39;49m\u001B[43m)\u001B[49m\n\u001B[0;32m      7\u001B[0m riskgen\u001B[38;5;241m.\u001B[39mget_risk_tensor()\n",
      "File \u001B[1;32m~\\PycharmProjects\\BusinessRiskSim\\simplesim\\simulation\\risk_generator.py:13\u001B[0m, in \u001B[0;36mRiskGen.__init__\u001B[1;34m(self, risks, batch_size, parallel_runs, device)\u001B[0m\n\u001B[0;32m     11\u001B[0m \u001B[38;5;28mself\u001B[39m\u001B[38;5;241m.\u001B[39mdevice \u001B[38;5;241m=\u001B[39m device\n\u001B[0;32m     12\u001B[0m \u001B[38;5;28mprint\u001B[39m(risks[\u001B[38;5;124m'\u001B[39m\u001B[38;5;124mreduction\u001B[39m\u001B[38;5;124m'\u001B[39m]\u001B[38;5;241m.\u001B[39mvalues)\n\u001B[1;32m---> 13\u001B[0m \u001B[38;5;28mself\u001B[39m\u001B[38;5;241m.\u001B[39mprobability_tensor \u001B[38;5;241m=\u001B[39m \u001B[43mth\u001B[49m\u001B[38;5;241;43m.\u001B[39;49m\u001B[43mfrom_numpy\u001B[49m\u001B[43m(\u001B[49m\u001B[43mrisks\u001B[49m\u001B[43m[\u001B[49m\u001B[38;5;124;43m'\u001B[39;49m\u001B[38;5;124;43mprobability\u001B[39;49m\u001B[38;5;124;43m'\u001B[39;49m\u001B[43m]\u001B[49m\u001B[38;5;241;43m.\u001B[39;49m\u001B[43mvalues\u001B[49m\u001B[43m)\u001B[49m\u001B[38;5;241m.\u001B[39mrepeat(parallel_runs, batch_size, \u001B[38;5;241m1\u001B[39m)\u001B[38;5;241m.\u001B[39mto(device)\n\u001B[0;32m     14\u001B[0m \u001B[38;5;28mprint\u001B[39m(th\u001B[38;5;241m.\u001B[39mfrom_numpy(risks[\u001B[38;5;124m'\u001B[39m\u001B[38;5;124mreduction\u001B[39m\u001B[38;5;124m'\u001B[39m]\u001B[38;5;241m.\u001B[39mvalues))\n\u001B[0;32m     15\u001B[0m \u001B[38;5;28mself\u001B[39m\u001B[38;5;241m.\u001B[39mreduction_tensor \u001B[38;5;241m=\u001B[39m th\u001B[38;5;241m.\u001B[39mfrom_numpy(risks[\u001B[38;5;124m'\u001B[39m\u001B[38;5;124mreduction\u001B[39m\u001B[38;5;124m'\u001B[39m]\u001B[38;5;241m.\u001B[39mvalues)\u001B[38;5;241m.\u001B[39mrepeat(parallel_runs, \u001B[38;5;241m1\u001B[39m)\u001B[38;5;241m.\u001B[39mto(device)\n",
      "\u001B[1;31mTypeError\u001B[0m: can't convert np.ndarray of type numpy.object_. The only supported types are: float64, float32, float16, complex64, complex128, int64, int32, int16, int8, uint8, and bool."
     ]
    }
   ],
   "source": [
    "# Input\n",
    "\n",
    "data_dir = CSVInput('data')\n",
    "risk_assembly = data_dir.get_risk_assembly()\n",
    "\n",
    "riskgen = RiskGen(risk_assembly, parallel_runs=1, batch_size=1)\n",
    "riskgen.get_risk_tensor()\n"
   ]
  },
  {
   "cell_type": "code",
   "execution_count": null,
   "metadata": {},
   "outputs": [],
   "source": []
  },
  {
   "cell_type": "code",
   "execution_count": null,
   "metadata": {},
   "outputs": [],
   "source": []
  }
 ],
 "metadata": {
  "kernelspec": {
   "display_name": "Python 3 (ipykernel)",
   "language": "python",
   "name": "python3"
  },
  "language_info": {
   "codemirror_mode": {
    "name": "ipython",
    "version": 3
   },
   "file_extension": ".py",
   "mimetype": "text/x-python",
   "name": "python",
   "nbconvert_exporter": "python",
   "pygments_lexer": "ipython3",
   "version": "3.10.9"
  }
 },
 "nbformat": 4,
 "nbformat_minor": 1
}
