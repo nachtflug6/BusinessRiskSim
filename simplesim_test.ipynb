{
 "cells": [
  {
   "cell_type": "code",
   "execution_count": 1,
   "metadata": {
    "collapsed": true
   },
   "outputs": [],
   "source": [
    "from simplesim.risk import Risk\n",
    "from simplesim.chain import Chain\n",
    "from simplesim.module import Module\n",
    "from simplesim.product import Product\n",
    "from simplesim.csv_input import CSVInput\n",
    "\n",
    "risk_list = [Risk('aaa', probability=0.2, recover_time=3, gradual_recover=True),\n",
    "             Risk('aaa', probability=0.1, recover_time=10, gradual_recover=True),\n",
    "             Risk('aaa', probability=0.05, recover_time=100, gradual_recover=True),\n",
    "             (Risk('aaa', probability=0.1, recover_time=10), Risk('aaa', probability=0.1, recover_time=10),\n",
    "              Risk('aaa', probability=0.1, recover_time=10)),\n",
    "             Risk('aaa', probability=0.01, recover_time=100, gradual_recover=True),\n",
    "             Risk('aaa', probability=0.001, recover_time=1000, gradual_recover=True),\n",
    "             Risk('aaa', probability=0.1, recover_time=1)\n",
    "             ]"
   ]
  },
  {
   "cell_type": "code",
   "execution_count": 2,
   "outputs": [
    {
     "name": "stdout",
     "output_type": "stream",
     "text": [
      "{'sss': <simplesim.module.Module object at 0x000002B4AB1F0BE0>, 'ssa': <simplesim.module.Module object at 0x000002B4AB1F12A0>, 'ssb': <simplesim.module.Module object at 0x000002B4AB136650>, 'ssc': <simplesim.module.Module object at 0x000002B4AB1378E0>, 'dde': <simplesim.module.Module object at 0x000002B4AB136B30>, 'ddr': <simplesim.module.Module object at 0x000002B4AB136FB0>, 'ddt': <simplesim.module.Module object at 0x000002B4AB137730>, 'ddy': <simplesim.module.Module object at 0x000002B4AB17C460>, 'ddu': <simplesim.module.Module object at 0x000002B4AB17C8B0>, 'ffr': <simplesim.module.Module object at 0x000002B4AB17C2E0>, 'ffg': <simplesim.module.Module object at 0x000002B4AB17C0A0>, 'ffb': <simplesim.module.Module object at 0x000002B4AD4CAD10>}\n",
      "  name                             description  \\\n",
      "0    A                         Data is missing   \n",
      "1    B                   Different data format   \n",
      "2    C                   Cyber-security issues   \n",
      "3    D           Issues with machines/furnaces   \n",
      "4    E  Deviations in material characteristics   \n",
      "5    F                  Dependency on supplier   \n",
      "6    G                       Machine breakdown   \n",
      "\n",
      "                                          Disruption        modules  \\\n",
      "0                                      Order is late  sss, ssa, ssb   \n",
      "1                              Production is blocked       dde, sss   \n",
      "2      Critical data is not shared with stakeholders       ddr, sss   \n",
      "3                              Production is blocked       ddt, sss   \n",
      "4             Delay in supplying product to customer       ffg, sss   \n",
      "5  Lack of redundancy leads to disruption in oper...       ffb, sss   \n",
      "6                                                NaN       ffb, sss   \n",
      "\n",
      "   probability  capacity reduction  delay  \n",
      "0          1.0                   1    NaN  \n",
      "1          0.5                   1    NaN  \n",
      "2          0.5                   1    NaN  \n",
      "3          1.0                   1    1.0  \n",
      "4          0.5                   1    1.0  \n",
      "5          1.0                   1    NaN  \n",
      "6          1.0                   1    NaN  \n"
     ]
    }
   ],
   "source": [
    "# Input\n",
    "\n",
    "\n",
    "data_dir = CSVInput('data')\n",
    "data_dir.get_chain()\n",
    "\n"
   ],
   "metadata": {
    "collapsed": false
   }
  },
  {
   "cell_type": "code",
   "execution_count": 2,
   "outputs": [],
   "source": [],
   "metadata": {
    "collapsed": false
   }
  },
  {
   "cell_type": "code",
   "execution_count": 2,
   "outputs": [],
   "source": [],
   "metadata": {
    "collapsed": false
   }
  }
 ],
 "metadata": {
  "kernelspec": {
   "display_name": "Python 3",
   "language": "python",
   "name": "python3"
  },
  "language_info": {
   "codemirror_mode": {
    "name": "ipython",
    "version": 2
   },
   "file_extension": ".py",
   "mimetype": "text/x-python",
   "name": "python",
   "nbconvert_exporter": "python",
   "pygments_lexer": "ipython2",
   "version": "2.7.6"
  }
 },
 "nbformat": 4,
 "nbformat_minor": 0
}
