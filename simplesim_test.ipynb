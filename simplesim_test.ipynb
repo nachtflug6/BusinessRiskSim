{
 "cells": [
  {
   "cell_type": "code",
   "execution_count": 1,
   "metadata": {},
   "outputs": [],
   "source": [
    "from simplesim.risk import Risk\n",
    "from simplesim.chain import Chain\n",
    "from simplesim.module import Module\n",
    "from simplesim.product import Product\n",
    "from simplesim.csv_input import CSVInput\n",
    "from simplesim.simulation.simulation import Simulation"
   ]
  },
  {
   "cell_type": "code",
   "execution_count": 2,
   "metadata": {},
   "outputs": [
    {
     "name": "stdout",
     "output_type": "stream",
     "text": [
      "['sss']\n",
      "['ssb']\n",
      "['ssa', 'ddu']\n",
      "['ssc']\n",
      "['ddr']\n",
      "['ddu', 'ffr']\n",
      "['ssa']\n",
      "['dde']\n",
      "['ddu', 'ffr']\n",
      "['ffg']\n",
      "['ddr']\n",
      "['ddu', 'ffr']\n",
      "['ssa']\n",
      "['dde']\n",
      "   name  part_capacity product            preproduct  \\\n",
      "0   sss            100       a                    {}   \n",
      "1   ssa            100       a                    {}   \n",
      "2   ssb            100       b                    {}   \n",
      "3   ssc            100       b                    {}   \n",
      "4   dde            100       c  {'a': 1.0, 'b': 1.0}   \n",
      "5   ddr            100       c  {'a': 1.0, 'b': 1.0}   \n",
      "6   ddt            100       d  {'a': 1.0, 'c': 1.0}   \n",
      "7   ddy            100       d  {'a': 1.0, 'c': 1.0}   \n",
      "8   ddu            100       a                    {}   \n",
      "9   ffr            100       a                    {}   \n",
      "10  ffg            100       b                    {}   \n",
      "11  ffb            100       c  {'a': 1.0, 'b': 1.0}   \n",
      "\n",
      "                              suppliers  level  \n",
      "0                                    {}      0  \n",
      "1                                    {}      0  \n",
      "2                                    {}      0  \n",
      "3                                    {}      0  \n",
      "4          {'a': ['sss'], 'b': ['ssb']}      1  \n",
      "5   {'a': ['ssa', 'ddu'], 'b': ['ssc']}      1  \n",
      "6   {'c': ['ddr'], 'a': ['ddu', 'ffr']}      2  \n",
      "7          {'a': ['ssa'], 'c': ['dde']}      2  \n",
      "8                                    {}      0  \n",
      "9                                    {}      0  \n",
      "10                                   {}      0  \n",
      "11  {'a': ['ddu', 'ffr'], 'b': ['ffg']}      1  \n"
     ]
    }
   ],
   "source": [
    "# Input\n",
    "\n",
    "data_dir = CSVInput('data')\n",
    "chain = data_dir.get_chain_assembly()\n",
    "print(chain)"
   ]
  },
  {
   "cell_type": "code",
   "execution_count": 2,
   "metadata": {},
   "outputs": [],
   "source": []
  },
  {
   "cell_type": "code",
   "execution_count": 2,
   "metadata": {},
   "outputs": [],
   "source": []
  }
 ],
 "metadata": {
  "kernelspec": {
   "display_name": "Python 3 (ipykernel)",
   "language": "python",
   "name": "python3"
  },
  "language_info": {
   "codemirror_mode": {
    "name": "ipython",
    "version": 3
   },
   "file_extension": ".py",
   "mimetype": "text/x-python",
   "name": "python",
   "nbconvert_exporter": "python",
   "pygments_lexer": "ipython3",
   "version": "3.10.9"
  }
 },
 "nbformat": 4,
 "nbformat_minor": 1
}
