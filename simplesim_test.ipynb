{
 "cells": [
  {
   "cell_type": "code",
   "execution_count": null,
   "metadata": {},
   "outputs": [],
   "source": [
    "import torch as th\n",
    "import timeit\n",
    "\n",
    "\n",
    "from simplesim.risk import Risk\n",
    "from simplesim.chain import Chain\n",
    "from simplesim.module import Module\n",
    "from simplesim.product import Product\n",
    "from simplesim.csv_input import CSVInput\n",
    "\n",
    "from simplesim.simulation.simulation import Simulation\n",
    "from simplesim.simulation.risk_generator import RiskGen"
   ]
  },
  {
   "cell_type": "code",
   "execution_count": null,
   "outputs": [],
   "source": [
    "device = 'cuda' if th.cuda.is_available() else 'cpu'\n",
    "print(device)\n",
    "\n",
    "def test():\n",
    "\n",
    "    num_risks = 6\n",
    "    batch_size = 20\n",
    "    parallel_runs = 1\n",
    "    num_batches = 1000\n",
    "\n",
    "\n",
    "\n",
    "    probability_tensor = th.rand(1, 1, num_risks) / 10\n",
    "    probability_tensor.to(device)\n",
    "    # countdown_tensor = th.ones_like(probability_tensor) * 10\n",
    "\n",
    "\n",
    "    countdown_tensor = th.zeros(parallel_runs, num_risks).to(device)\n",
    "    repair_tensor = th.randint(5, 6, countdown_tensor.shape).to(device)\n",
    "\n",
    "\n",
    "\n",
    "    for k in range(num_batches):\n",
    "        new_probability_tensor = probability_tensor.repeat(parallel_runs, batch_size, 1).to(device)\n",
    "        event_tensor = th.where(new_probability_tensor > th.rand(new_probability_tensor.shape).to(device), 1, 0).to(device)\n",
    "        new_event_tensor = th.zeros_like(event_tensor).to(device)\n",
    "\n",
    "        for i in range(batch_size):\n",
    "\n",
    "            new_event_tensor[:, i, :] = th.where((((event_tensor[:, i, :] > 0) & (countdown_tensor == 0)) | (countdown_tensor > 0)), 1, 0)\n",
    "            countdown_tensor = th.where((event_tensor[:, i, :] > 0) & (countdown_tensor == 0), repair_tensor, countdown_tensor - 1)\n",
    "            countdown_tensor = th.where(countdown_tensor < 0, 0, countdown_tensor)\n",
    "\n",
    "    print(new_event_tensor)\n",
    "\n",
    "\n",
    "result = timeit.timeit('test()', globals=globals(), number=1)\n",
    "print(result)"
   ],
   "metadata": {
    "collapsed": false
   }
  },
  {
   "cell_type": "code",
   "execution_count": null,
   "metadata": {},
   "outputs": [],
   "source": [
    "# Input\n",
    "\n",
    "data_dir = CSVInput('data')\n",
    "risk_assembly = data_dir.get_risk_assembly()\n",
    "\n",
    "riskgen = RiskGen(risk_assembly)\n",
    "riskgen.get_risk_vector(5)\n"
   ]
  },
  {
   "cell_type": "code",
   "execution_count": null,
   "metadata": {},
   "outputs": [],
   "source": []
  },
  {
   "cell_type": "code",
   "execution_count": null,
   "metadata": {},
   "outputs": [],
   "source": []
  }
 ],
 "metadata": {
  "kernelspec": {
   "display_name": "Python 3 (ipykernel)",
   "language": "python",
   "name": "python3"
  },
  "language_info": {
   "codemirror_mode": {
    "name": "ipython",
    "version": 3
   },
   "file_extension": ".py",
   "mimetype": "text/x-python",
   "name": "python",
   "nbconvert_exporter": "python",
   "pygments_lexer": "ipython3",
   "version": "3.10.9"
  }
 },
 "nbformat": 4,
 "nbformat_minor": 1
}
