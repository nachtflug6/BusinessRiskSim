{
 "cells": [
  {
   "cell_type": "code",
   "execution_count": 1,
   "metadata": {
    "collapsed": true
   },
   "outputs": [],
   "source": [
    "import numpy as np\n",
    "import pandas as pd\n",
    "import matplotlib.pyplot as plt\n",
    "import os"
   ]
  },
  {
   "cell_type": "code",
   "execution_count": 7,
   "outputs": [],
   "source": [
    "path = os.path.join(os.getcwd(), 'data/risk_sim.csv')\n",
    "\n",
    "risks = pd.read_csv(path, sep=';')"
   ],
   "metadata": {
    "collapsed": false
   }
  },
  {
   "cell_type": "code",
   "execution_count": 10,
   "outputs": [],
   "source": [
    "from backend.company import Company\n",
    "from backend.risk import Risk\n",
    "from backend.supplychain import SupplyChain\n",
    "from backend.types.risk_type import RiskType"
   ],
   "metadata": {
    "collapsed": false
   }
  },
  {
   "cell_type": "code",
   "execution_count": 11,
   "outputs": [
    {
     "name": "stdout",
     "output_type": "stream",
     "text": [
      "['a', 'b', 'c']\n"
     ]
    }
   ],
   "source": [
    "company_list = []\n",
    "\n",
    "for companies in risks['Companies']:\n",
    "    for company in companies:\n",
    "        if company.isalpha() and company not in company_list:\n",
    "            company_list.append(company)\n",
    "\n",
    "print(list(company_list))\n",
    "\n",
    "company_obj_list = []\n",
    "\n",
    "for company in company_list:\n",
    "    risks_company = []\n",
    "    for i, affected_companies in enumerate(risks['Companies'], 0):\n",
    "        if company in affected_companies:\n",
    "            row = risks.iloc[i]\n",
    "            impacts = {'delivery assurance': row['delivery assurance'],\n",
    "                           'customer requirements': row['customer requirements'],\n",
    "                           'product data': row['product data'],\n",
    "                           'green conversion': row['green conversion']}\n",
    "            new_risk = Risk(row['Risks'], row['Disruption'], row['Frequency'], impacts)\n",
    "            risks_company.append(impacts)\n",
    "\n",
    "    company_obj = Company(risks_company)\n",
    "    company_obj_list.append(company_obj)\n",
    "\n",
    "supply_chain = SupplyChain(company_obj_list)\n",
    "\n",
    "\n"
   ],
   "metadata": {
    "collapsed": false
   }
  },
  {
   "cell_type": "code",
   "execution_count": null,
   "outputs": [],
   "source": [],
   "metadata": {
    "collapsed": false
   }
  }
 ],
 "metadata": {
  "kernelspec": {
   "display_name": "Python 3",
   "language": "python",
   "name": "python3"
  },
  "language_info": {
   "codemirror_mode": {
    "name": "ipython",
    "version": 2
   },
   "file_extension": ".py",
   "mimetype": "text/x-python",
   "name": "python",
   "nbconvert_exporter": "python",
   "pygments_lexer": "ipython2",
   "version": "2.7.6"
  }
 },
 "nbformat": 4,
 "nbformat_minor": 0
}
