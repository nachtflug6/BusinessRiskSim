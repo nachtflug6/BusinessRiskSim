{
 "cells": [
  {
   "cell_type": "code",
   "execution_count": 1,
   "metadata": {
    "collapsed": true
   },
   "outputs": [],
   "source": [
    "import numpy as np\n",
    "import pandas as pd\n",
    "import matplotlib.pyplot as plt\n",
    "import os"
   ]
  },
  {
   "cell_type": "code",
   "execution_count": 6,
   "outputs": [],
   "source": [
    "path_risks = os.path.join(os.getcwd(), 'data/risk_sim.csv')\n",
    "path_supplychain = os.path.join(os.getcwd(), 'data/supplychain.csv')\n",
    "\n",
    "risks = pd.read_csv(path_risks, sep=';')"
   ],
   "metadata": {
    "collapsed": false
   }
  },
  {
   "cell_type": "code",
   "execution_count": 3,
   "outputs": [],
   "source": [
    "from backend.company import Company\n",
    "from backend.risk import Risk\n",
    "from backend.supplychain import SupplyChain\n",
    "from backend.types.risk_type import RiskType"
   ],
   "metadata": {
    "collapsed": false
   }
  },
  {
   "cell_type": "code",
   "execution_count": 4,
   "outputs": [
    {
     "name": "stdout",
     "output_type": "stream",
     "text": [
      "['a', 'b', 'c']\n"
     ]
    }
   ],
   "source": [
    "company_list = []\n",
    "\n",
    "for companies in risks['Companies']:\n",
    "    for company in companies:\n",
    "        if company.isalpha() and company not in company_list:\n",
    "            company_list.append(company)\n",
    "\n",
    "print(list(company_list))\n",
    "\n",
    "company_obj_list = []\n",
    "\n",
    "for company in company_list:\n",
    "    risks_company = []\n",
    "    for i, affected_companies in enumerate(risks['Companies'], 0):\n",
    "        if company in affected_companies:\n",
    "            row = risks.iloc[i]\n",
    "            impacts = {'delivery assurance': row['delivery assurance'],\n",
    "                           'customer requirements': row['customer requirements'],\n",
    "                           'product data': row['product data'],\n",
    "                           'green conversion': row['green conversion']}\n",
    "            new_risk = Risk(row['Risks'], row['Disruption'], row['Frequency'], impacts)\n",
    "            risks_company.append(impacts)\n",
    "\n",
    "    company_obj = Company(risks_company)\n",
    "    company_obj_list.append(company_obj)\n",
    "\n",
    "supply_chain = SupplyChain(company_obj_list)\n",
    "\n",
    "\n"
   ],
   "metadata": {
    "collapsed": false
   }
  },
  {
   "cell_type": "code",
   "execution_count": 48,
   "outputs": [
    {
     "name": "stdout",
     "output_type": "stream",
     "text": [
      "[[{'company': 'a', 'suppliers': ['origin']}], [{'company': 'b', 'suppliers': ['a']}], [{'company': 'c', 'suppliers': ['b', 'a']}, {'company': 'g', 'suppliers': ['a', 'b']}, {'company': 'aa', 'suppliers': ['a', 'b']}], [{'company': 'd', 'suppliers': ['a', 'c']}], [{'company': 'e', 'suppliers': ['a', 'd']}], [{'company': 'f', 'suppliers': ['e', 'd', 'b']}]]\n"
     ]
    }
   ],
   "source": [
    "company_supply = pd.read_csv(path_supplychain, sep=';')\n",
    "\n",
    "company_hierarchy = []\n",
    "used_companies = []\n",
    "\n",
    "for k in range(len(company_supply.index)):\n",
    "    level_companies = []\n",
    "    level_used_companies = []\n",
    "    for i, company in enumerate(company_supply['Company'], 0):\n",
    "        suppliers = company_supply.iloc[i]['Supplier'].replace(\" \", \"\").split(',')\n",
    "\n",
    "        if company not in used_companies and company not in level_used_companies:\n",
    "            if 'origin' in suppliers:\n",
    "                level_used_companies.append(company)\n",
    "                level_companies.append({'company': company, 'suppliers': suppliers})\n",
    "            elif all(x in used_companies and x not in level_companies for x in suppliers):\n",
    "                level_used_companies.append(company)\n",
    "                level_companies.append({'company': company, 'suppliers': suppliers})\n",
    "\n",
    "    used_companies = used_companies + level_used_companies\n",
    "\n",
    "    company_hierarchy.append(level_companies)\n",
    "\n",
    "company_hierarchy = [level for level in company_hierarchy if level != []]\n",
    "\n",
    "print(company_hierarchy)"
   ],
   "metadata": {
    "collapsed": false
   }
  },
  {
   "cell_type": "code",
   "execution_count": null,
   "outputs": [],
   "source": [],
   "metadata": {
    "collapsed": false
   }
  },
  {
   "cell_type": "markdown",
   "source": [],
   "metadata": {
    "collapsed": false
   }
  }
 ],
 "metadata": {
  "kernelspec": {
   "display_name": "Python 3",
   "language": "python",
   "name": "python3"
  },
  "language_info": {
   "codemirror_mode": {
    "name": "ipython",
    "version": 2
   },
   "file_extension": ".py",
   "mimetype": "text/x-python",
   "name": "python",
   "nbconvert_exporter": "python",
   "pygments_lexer": "ipython2",
   "version": "2.7.6"
  }
 },
 "nbformat": 4,
 "nbformat_minor": 0
}
