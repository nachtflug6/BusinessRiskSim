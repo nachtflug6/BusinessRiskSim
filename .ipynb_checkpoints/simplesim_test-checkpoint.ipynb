{
 "cells": [
  {
   "cell_type": "code",
   "execution_count": 1,
   "metadata": {},
   "outputs": [],
   "source": [
    "from simplesim.risk import Risk\n",
    "from simplesim.chain import Chain\n",
    "from simplesim.module import Module\n",
    "from simplesim.product import Product\n",
    "from simplesim.csv_input import CSVInput\n",
    "\n",
    "risk_list = [Risk('aaa', probability=0.2, recover_time=3, gradual_recover=True),\n",
    "             Risk('aaa', probability=0.1, recover_time=10, gradual_recover=True),\n",
    "             Risk('aaa', probability=0.05, recover_time=100, gradual_recover=True),\n",
    "             (Risk('aaa', probability=0.1, recover_time=10), Risk('aaa', probability=0.1, recover_time=10),\n",
    "              Risk('aaa', probability=0.1, recover_time=10)),\n",
    "             Risk('aaa', probability=0.01, recover_time=100, gradual_recover=True),\n",
    "             Risk('aaa', probability=0.001, recover_time=1000, gradual_recover=True),\n",
    "             Risk('aaa', probability=0.1, recover_time=1)\n",
    "             ]"
   ]
  },
  {
   "cell_type": "code",
   "execution_count": 2,
   "metadata": {
    "pycharm": {
     "is_executing": true
    }
   },
   "outputs": [
    {
     "name": "stderr",
     "output_type": "stream",
     "text": [
      "IOPub data rate exceeded.\n",
      "The notebook server will temporarily stop sending output\n",
      "to the client in order to avoid crashing it.\n",
      "To change this limit, set the config variable\n",
      "`--NotebookApp.iopub_data_rate_limit`.\n",
      "\n",
      "Current values:\n",
      "NotebookApp.iopub_data_rate_limit=1000000.0 (bytes/sec)\n",
      "NotebookApp.rate_limit_window=3.0 (secs)\n",
      "\n"
     ]
    },
    {
     "ename": "MemoryError",
     "evalue": "",
     "output_type": "error",
     "traceback": [
      "\u001B[1;31m---------------------------------------------------------------------------\u001B[0m",
      "\u001B[1;31mMemoryError\u001B[0m                               Traceback (most recent call last)",
      "Cell \u001B[1;32mIn[2], line 4\u001B[0m\n\u001B[0;32m      1\u001B[0m \u001B[38;5;66;03m# Input\u001B[39;00m\n\u001B[0;32m      3\u001B[0m data_dir \u001B[38;5;241m=\u001B[39m CSVInput(\u001B[38;5;124m'\u001B[39m\u001B[38;5;124mdata\u001B[39m\u001B[38;5;124m'\u001B[39m)\n\u001B[1;32m----> 4\u001B[0m chain \u001B[38;5;241m=\u001B[39m \u001B[43mdata_dir\u001B[49m\u001B[38;5;241;43m.\u001B[39;49m\u001B[43mget_chain\u001B[49m\u001B[43m(\u001B[49m\u001B[43m)\u001B[49m\n",
      "File \u001B[1;32m~\\PycharmProjects\\BusinessRiskSim\\simplesim\\csv_input.py:105\u001B[0m, in \u001B[0;36mCSVInput.get_chain\u001B[1;34m(self)\u001B[0m\n\u001B[0;32m    101\u001B[0m chain \u001B[38;5;241m=\u001B[39m Chain(modules)\n\u001B[0;32m    103\u001B[0m \u001B[38;5;28mprint\u001B[39m(\u001B[38;5;124m'\u001B[39m\u001B[38;5;124m1\u001B[39m\u001B[38;5;124m'\u001B[39m)\n\u001B[1;32m--> 105\u001B[0m \u001B[38;5;28mprint\u001B[39m(\u001B[43marange_modules\u001B[49m\u001B[43m(\u001B[49m\u001B[43mchain\u001B[49m\u001B[38;5;241;43m.\u001B[39;49m\u001B[43mmodules\u001B[49m\u001B[43m)\u001B[49m)\n\u001B[0;32m    107\u001B[0m \u001B[38;5;28;01mreturn\u001B[39;00m chain\n",
      "File \u001B[1;32m~\\PycharmProjects\\BusinessRiskSim\\simplesim\\csv_input.py:26\u001B[0m, in \u001B[0;36marange_modules\u001B[1;34m(modules, known_modules, production_tree)\u001B[0m\n\u001B[0;32m     23\u001B[0m \u001B[38;5;28mprint\u001B[39m(production_tree)\n\u001B[0;32m     25\u001B[0m \u001B[38;5;28;01mif\u001B[39;00m known_modules \u001B[38;5;241m!=\u001B[39m modules:\n\u001B[1;32m---> 26\u001B[0m     \u001B[38;5;28;01mreturn\u001B[39;00m \u001B[43marange_modules\u001B[49m\u001B[43m(\u001B[49m\u001B[43mmodules\u001B[49m\u001B[43m,\u001B[49m\u001B[43m \u001B[49m\u001B[43mknown_modules\u001B[49m\u001B[43m,\u001B[49m\u001B[43m \u001B[49m\u001B[43mproduction_tree\u001B[49m\u001B[43m)\u001B[49m\n\u001B[0;32m     27\u001B[0m \u001B[38;5;28;01melse\u001B[39;00m:\n\u001B[0;32m     28\u001B[0m     \u001B[38;5;28;01mreturn\u001B[39;00m production_tree\n",
      "File \u001B[1;32m~\\PycharmProjects\\BusinessRiskSim\\simplesim\\csv_input.py:26\u001B[0m, in \u001B[0;36marange_modules\u001B[1;34m(modules, known_modules, production_tree)\u001B[0m\n\u001B[0;32m     23\u001B[0m \u001B[38;5;28mprint\u001B[39m(production_tree)\n\u001B[0;32m     25\u001B[0m \u001B[38;5;28;01mif\u001B[39;00m known_modules \u001B[38;5;241m!=\u001B[39m modules:\n\u001B[1;32m---> 26\u001B[0m     \u001B[38;5;28;01mreturn\u001B[39;00m \u001B[43marange_modules\u001B[49m\u001B[43m(\u001B[49m\u001B[43mmodules\u001B[49m\u001B[43m,\u001B[49m\u001B[43m \u001B[49m\u001B[43mknown_modules\u001B[49m\u001B[43m,\u001B[49m\u001B[43m \u001B[49m\u001B[43mproduction_tree\u001B[49m\u001B[43m)\u001B[49m\n\u001B[0;32m     27\u001B[0m \u001B[38;5;28;01melse\u001B[39;00m:\n\u001B[0;32m     28\u001B[0m     \u001B[38;5;28;01mreturn\u001B[39;00m production_tree\n",
      "    \u001B[1;31m[... skipping similar frames: arange_modules at line 26 (2964 times)]\u001B[0m\n",
      "File \u001B[1;32m~\\PycharmProjects\\BusinessRiskSim\\simplesim\\csv_input.py:26\u001B[0m, in \u001B[0;36marange_modules\u001B[1;34m(modules, known_modules, production_tree)\u001B[0m\n\u001B[0;32m     23\u001B[0m \u001B[38;5;28mprint\u001B[39m(production_tree)\n\u001B[0;32m     25\u001B[0m \u001B[38;5;28;01mif\u001B[39;00m known_modules \u001B[38;5;241m!=\u001B[39m modules:\n\u001B[1;32m---> 26\u001B[0m     \u001B[38;5;28;01mreturn\u001B[39;00m \u001B[43marange_modules\u001B[49m\u001B[43m(\u001B[49m\u001B[43mmodules\u001B[49m\u001B[43m,\u001B[49m\u001B[43m \u001B[49m\u001B[43mknown_modules\u001B[49m\u001B[43m,\u001B[49m\u001B[43m \u001B[49m\u001B[43mproduction_tree\u001B[49m\u001B[43m)\u001B[49m\n\u001B[0;32m     27\u001B[0m \u001B[38;5;28;01melse\u001B[39;00m:\n\u001B[0;32m     28\u001B[0m     \u001B[38;5;28;01mreturn\u001B[39;00m production_tree\n",
      "File \u001B[1;32m~\\PycharmProjects\\BusinessRiskSim\\simplesim\\csv_input.py:23\u001B[0m, in \u001B[0;36marange_modules\u001B[1;34m(modules, known_modules, production_tree)\u001B[0m\n\u001B[0;32m     20\u001B[0m known_modules \u001B[38;5;241m|\u001B[39m\u001B[38;5;241m=\u001B[39m current_level\n\u001B[0;32m     21\u001B[0m production_tree\u001B[38;5;241m.\u001B[39mappend(current_level)\n\u001B[1;32m---> 23\u001B[0m \u001B[38;5;28;43mprint\u001B[39;49m\u001B[43m(\u001B[49m\u001B[43mproduction_tree\u001B[49m\u001B[43m)\u001B[49m\n\u001B[0;32m     25\u001B[0m \u001B[38;5;28;01mif\u001B[39;00m known_modules \u001B[38;5;241m!=\u001B[39m modules:\n\u001B[0;32m     26\u001B[0m     \u001B[38;5;28;01mreturn\u001B[39;00m arange_modules(modules, known_modules, production_tree)\n",
      "\u001B[1;31mMemoryError\u001B[0m: "
     ]
    }
   ],
   "source": [
    "# Input\n",
    "\n",
    "data_dir = CSVInput('data')\n",
    "chain = data_dir.get_chain()"
   ]
  },
  {
   "cell_type": "code",
   "execution_count": null,
   "metadata": {
    "pycharm": {
     "is_executing": true
    }
   },
   "outputs": [],
   "source": []
  },
  {
   "cell_type": "code",
   "execution_count": null,
   "metadata": {
    "pycharm": {
     "is_executing": true
    }
   },
   "outputs": [],
   "source": []
  }
 ],
 "metadata": {
  "kernelspec": {
   "display_name": "Python 3 (ipykernel)",
   "language": "python",
   "name": "python3"
  },
  "language_info": {
   "codemirror_mode": {
    "name": "ipython",
    "version": 3
   },
   "file_extension": ".py",
   "mimetype": "text/x-python",
   "name": "python",
   "nbconvert_exporter": "python",
   "pygments_lexer": "ipython3",
   "version": "3.10.9"
  }
 },
 "nbformat": 4,
 "nbformat_minor": 1
}
